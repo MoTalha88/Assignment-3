{
 "cells": [
  {
   "cell_type": "code",
   "execution_count": 2,
   "id": "606ae34c-d5db-4059-a692-7ff1e9ff38d9",
   "metadata": {},
   "outputs": [],
   "source": [
    "class Animal:\n",
    "    def __init__(self): \n",
    "        print(\"hello\")\n",
    "\n",
    "    def talk(self):\n",
    "        print(\"hi\")"
   ]
  },
  {
   "cell_type": "code",
   "execution_count": 3,
   "id": "e378a595-aad5-4e24-9198-d49432df970b",
   "metadata": {},
   "outputs": [
    {
     "name": "stdout",
     "output_type": "stream",
     "text": [
      "hello\n",
      "hi\n",
      "hello\n",
      "Hello from Dog!\n",
      "Woof!\n",
      "hello\n",
      "Hello from Cat!\n",
      "Meow!\n"
     ]
    }
   ],
   "source": [
    "# First child class: Dog\n",
    "class Dog(Animal):\n",
    "    def __init__(self):\n",
    "        super().__init__()  # Calls the Animal constructor\n",
    "        print(\"Hello from Dog!\")\n",
    "\n",
    "    def talk(self):\n",
    "        print(\"Woof!\")\n",
    "\n",
    "# Second child class: Cat\n",
    "class Cat(Animal):\n",
    "    def __init__(self):\n",
    "        super().__init__()  # Calls the Animal constructor\n",
    "        print(\"Hello from Cat!\")\n",
    "\n",
    "    def talk(self):\n",
    "        print(\"Meow!\")\n",
    "\n",
    "# Example usage\n",
    "animal = Animal()  # Instantiates the Animal class\n",
    "animal.talk()      # Calls the Animal talk method\n",
    "\n",
    "dog = Dog()        # Instantiates the Dog class\n",
    "dog.talk()         # Calls the Dog talk method\n",
    "\n",
    "cat = Cat()        # Instantiates the Cat class\n",
    "cat.talk()         # Calls the Cat talk method"
   ]
  },
  {
   "cell_type": "code",
   "execution_count": null,
   "id": "fbdff3b7-6984-4e07-a256-e78134050b2a",
   "metadata": {},
   "outputs": [],
   "source": []
  }
 ],
 "metadata": {
  "kernelspec": {
   "display_name": "Python 3 (ipykernel)",
   "language": "python",
   "name": "python3"
  },
  "language_info": {
   "codemirror_mode": {
    "name": "ipython",
    "version": 3
   },
   "file_extension": ".py",
   "mimetype": "text/x-python",
   "name": "python",
   "nbconvert_exporter": "python",
   "pygments_lexer": "ipython3",
   "version": "3.12.4"
  }
 },
 "nbformat": 4,
 "nbformat_minor": 5
}
