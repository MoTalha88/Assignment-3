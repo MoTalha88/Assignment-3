{
 "cells": [
  {
   "cell_type": "code",
   "execution_count": 1,
   "metadata": {},
   "outputs": [],
   "source": [
    "class Giraffe:\n",
    "    # For growth parameter, use only \"young\" or \"mature\"\n",
    "    def __init__(self, growth):\n",
    "        self.__species = \"Giraffa\"\n",
    "        self.__avglifespan = \"20-27 years\"\n",
    "        self.__maturity = growth\n",
    "\n",
    "    def stature(self):\n",
    "        \"\"\"Provides information about the giraffe's height and weight based on maturity.\"\"\"\n",
    "        try: \n",
    "            if self.__maturity.lower() == \"young\":\n",
    "                print(\"A young giraffe is 1-5 years old. They're about 6 ft tall. They weigh between 100 and 200 lbs.\")\n",
    "            elif self.__maturity.lower() == \"mature\":\n",
    "                print(\"A mature giraffe is around 15-20 years old. They're about 14-18 ft tall. They can weigh between 2600 to 4200 lbs.\")\n",
    "        except:\n",
    "            print(\"Make sure growth parameter is either 'young' or 'mature'.\")\n",
    "\n",
    "    def average_height(self):\n",
    "        \"\"\"Provides the average height of giraffes.\"\"\"\n",
    "        print(\"The average height of a giraffe is 16-18 feet for mature adults, with males being slightly taller than females.\")\n",
    "\n",
    "    def average_speed(self):\n",
    "        \"\"\"Describes the average speed of giraffes.\"\"\"\n",
    "        print(\"Giraffes can run at speeds of up to 35 miles per hour over short distances and maintain about 10 miles per hour over longer distances.\")\n",
    "\n",
    "    def diet(self):\n",
    "        \"\"\"Describes the diet of giraffes.\"\"\"\n",
    "        print(\"Giraffes are herbivores, primarily feeding on leaves, fruits, and flowers of woody plants, particularly acacia species.\")\n",
    "\n",
    "    def neck_length(self):\n",
    "        \"\"\"Provides information about the giraffe's neck length.\"\"\"\n",
    "        print(\"The average neck length of a giraffe is around 6 feet, with some exceeding 8 feet.\")\n",
    "\n",
    "    def social_behavior(self):\n",
    "        \"\"\"Describes the social behavior of giraffes.\"\"\"\n",
    "        print(\"Giraffes are social animals and typically live in groups called towers, consisting of 10-20 individuals.\")\n",
    "\n",
    "    def conservation_status(self):\n",
    "        \"\"\"Shares the conservation status of giraffes.\"\"\"\n",
    "        print(\"Giraffes are currently listed as 'Vulnerable' by the IUCN, with certain subspecies considered endangered due to habitat loss and poaching.\")\n",
    "\n",
    "    def unique_features(self):\n",
    "        \"\"\"Highlights unique features of giraffes.\"\"\"\n",
    "        print(\"Giraffes have unique coat patterns, and no two giraffes have the same markings. They also have a specialized cardiovascular system to pump blood to their brain.\")\n"
   ]
  },
  {
   "cell_type": "code",
   "execution_count": 2,
   "metadata": {},
   "outputs": [
    {
     "name": "stdout",
     "output_type": "stream",
     "text": [
      "A mature giraffe is around 15-20 years old. They're about 14-18 ft tall. They can weigh between 2600 to 4200 lbs.\n",
      "The average height of a giraffe is 16-18 feet for mature adults, with males being slightly taller than females.\n",
      "Giraffes can run at speeds of up to 35 miles per hour over short distances and maintain about 10 miles per hour over longer distances.\n",
      "Giraffes are herbivores, primarily feeding on leaves, fruits, and flowers of woody plants, particularly acacia species.\n",
      "The average neck length of a giraffe is around 6 feet, with some exceeding 8 feet.\n",
      "Giraffes are social animals and typically live in groups called towers, consisting of 10-20 individuals.\n",
      "Giraffes are currently listed as 'Vulnerable' by the IUCN, with certain subspecies considered endangered due to habitat loss and poaching.\n",
      "Giraffes have unique coat patterns, and no two giraffes have the same markings. They also have a specialized cardiovascular system to pump blood to their brain.\n"
     ]
    }
   ],
   "source": [
    "#TESTING CLASS CODE BELOW:\n",
    "giraffe = Giraffe(\"mature\")\n",
    "giraffe.stature()\n",
    "giraffe.average_height()\n",
    "giraffe.average_speed()\n",
    "giraffe.diet()\n",
    "giraffe.neck_length()\n",
    "giraffe.social_behavior()\n",
    "giraffe.conservation_status()\n",
    "giraffe.unique_features()"
   ]
  },
  {
   "cell_type": "code",
   "execution_count": null,
   "metadata": {},
   "outputs": [],
   "source": []
  }
 ],
 "metadata": {
  "kernelspec": {
   "display_name": "Python 3 (ipykernel)",
   "language": "python",
   "name": "python3"
  },
  "language_info": {
   "codemirror_mode": {
    "name": "ipython",
    "version": 3
   },
   "file_extension": ".py",
   "mimetype": "text/x-python",
   "name": "python",
   "nbconvert_exporter": "python",
   "pygments_lexer": "ipython3",
   "version": "3.12.4"
  }
 },
 "nbformat": 4,
 "nbformat_minor": 4
}
