{
 "cells": [
  {
   "cell_type": "code",
   "execution_count": null,
   "metadata": {},
   "outputs": [
    {
     "name": "stdout",
     "output_type": "stream",
     "text": [
      "A young giraffe is 1-5 years old. They're about 6 ft tall. They weight between 100 and 200 lbs.\n"
     ]
    }
   ],
   "source": [
    "class Giraffe:\n",
    "#For growth parameter position use only \"young\" or \"mature\"\n",
    "\n",
    "    def __init__(self, growth):\n",
    "        self.__species = \"Giraffa\"\n",
    "        self.__avglifespan = \"20-27 years\"\n",
    "        self.__maturity = growth\n",
    "\n",
    "    def stature(self):\n",
    "        try: \n",
    "            if self.__maturity.lower() == \"young\":\n",
    "                print(\"A young giraffe is 1-5 years old. They're about 6 ft tall. They weight between 100 and 200 lbs.\")\n",
    "            elif self.__maturity.lower() == \"mature\":\n",
    "                print(\"A mature giraffe is around 15-20 years old. They're about 14-18 ft tall. They can weight between 2600 to 4200 lbs.\")\n",
    "        except:\n",
    "            print(\"Make sure growth parameter is either 'young' or 'mature'\")\n",
    "    #Add 3 additional functions as you see fit.\n",
    "\n",
    "\n",
    "\n"
   ]
  },
  {
   "cell_type": "code",
   "execution_count": null,
   "metadata": {},
   "outputs": [
    {
     "name": "stdout",
     "output_type": "stream",
     "text": [
      "A mature giraffe is around 15-20 years old. They're about 14-18 ft tall. They can weight between 2600 to 4200 lbs.\n",
      "A young giraffe is 1-5 years old. They're about 6 ft tall. They weight between 100 and 200 lbs.\n"
     ]
    }
   ],
   "source": [
    "#TESTING CLASS CODE BELOW:\n",
    "\n",
    "#For stature function:\n",
    "ygiraffe = Giraffe('young')\n",
    "Giraffe('mature').stature()\n",
    "ygiraffe.stature()\n"
   ]
  }
 ],
 "metadata": {
  "kernelspec": {
   "display_name": "Python 3",
   "language": "python",
   "name": "python3"
  },
  "language_info": {
   "codemirror_mode": {
    "name": "ipython",
    "version": 3
   },
   "file_extension": ".py",
   "mimetype": "text/x-python",
   "name": "python",
   "nbconvert_exporter": "python",
   "pygments_lexer": "ipython3",
   "version": "3.13.0"
  }
 },
 "nbformat": 4,
 "nbformat_minor": 2
}
